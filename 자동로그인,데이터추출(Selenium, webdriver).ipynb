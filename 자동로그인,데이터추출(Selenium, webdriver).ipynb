{
 "cells": [
  {
   "cell_type": "code",
   "execution_count": 92,
   "metadata": {},
   "outputs": [],
   "source": [
    "from bs4 import BeautifulSoup\n",
    "from selenium import webdriver"
   ]
  },
  {
   "cell_type": "code",
   "execution_count": 93,
   "metadata": {},
   "outputs": [],
   "source": [
    "driver = webdriver.Chrome(\"C:/Users/seob/PycharmProjects/new/chromedriver\")"
   ]
  },
  {
   "cell_type": "code",
   "execution_count": 94,
   "metadata": {},
   "outputs": [],
   "source": [
    "driver.implicitly_wait(3)"
   ]
  },
  {
   "cell_type": "code",
   "execution_count": 95,
   "metadata": {},
   "outputs": [
    {
     "name": "stdout",
     "output_type": "stream",
     "text": [
      "[도서]죽이는 한마디 : 시장이 거부할 수 없는 컨셉 카피의 8가지 원리 외 1 종\n",
      "[도서]브랜드 마케터들의 이야기 : 음식, 음악, 여행 그리고 독서\n",
      "[도서]필립 코틀러의 마켓 4.0 : 4차 산업혁명이 뒤바꾼 시장을 선점하라\n",
      "[도서]한 권으로 끝내는 해커스 토익 700+ (LC+RC) [신토익 실전모의고사 2회분 제공]\n",
      "[도서]파이썬으로 데이터 주무르기 : 독특한 예제를 통해 배우는 데이터 분석 입문\n",
      "[도서]파이썬을 이용한 머신러닝, 딥러닝 실전 개발 입문 : 웹 크롤링과 스크레이핑부터 머신러닝·딥러닝까지 체계적으로 배우기\n",
      "[도서]초보자를 위한 파이썬 200제\n",
      "[도서]이산수학 외 3 종\n"
     ]
    }
   ],
   "source": [
    "driver.get(\"https://ssl.yes24.com//MyPageOrderList/MyPageOrderList\")\n",
    "driver.find_element_by_id(\"SMemberID\").send_keys(\"아이디\")\n",
    "driver.find_element_by_id(\"SMemberPassword\").send_keys(\"비번\")\n",
    "driver.find_element_by_css_selector(\"#btnLogin > span.bWrap\").click()\n",
    "\n",
    "html = driver.page_source\n",
    "soup = BeautifulSoup(html, \"html.parser\")\n",
    "products = soup.select(\"span.txt120\")\n",
    "for i in products:\n",
    "    print(i.string)"
   ]
  },
  {
   "cell_type": "code",
   "execution_count": null,
   "metadata": {},
   "outputs": [],
   "source": []
  },
  {
   "cell_type": "code",
   "execution_count": null,
   "metadata": {},
   "outputs": [],
   "source": []
  },
  {
   "cell_type": "code",
   "execution_count": null,
   "metadata": {},
   "outputs": [],
   "source": []
  },
  {
   "cell_type": "code",
   "execution_count": null,
   "metadata": {},
   "outputs": [],
   "source": []
  },
  {
   "cell_type": "code",
   "execution_count": null,
   "metadata": {},
   "outputs": [],
   "source": []
  }
 ],
 "metadata": {
  "kernelspec": {
   "display_name": "Python 3",
   "language": "python",
   "name": "python3"
  },
  "language_info": {
   "codemirror_mode": {
    "name": "ipython",
    "version": 3
   },
   "file_extension": ".py",
   "mimetype": "text/x-python",
   "name": "python",
   "nbconvert_exporter": "python",
   "pygments_lexer": "ipython3",
   "version": "3.6.5"
  }
 },
 "nbformat": 4,
 "nbformat_minor": 2
}
